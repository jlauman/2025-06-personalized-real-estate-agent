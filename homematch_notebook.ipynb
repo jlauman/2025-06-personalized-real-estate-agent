{
 "cells": [
  {
   "cell_type": "code",
   "execution_count": null,
   "id": "735ea2eb-d09d-4385-8f2f-2ef8974aeb38",
   "metadata": {},
   "outputs": [],
   "source": []
  },
  {
   "cell_type": "code",
   "execution_count": null,
   "id": "953b0986-46e7-4cc5-bc17-388c0a36e3a2",
   "metadata": {},
   "outputs": [],
   "source": [
    "# langchain reads the OPENAI_API_KEY environment variable.\n",
    "import os\n",
    "\n",
    "OPENAI_API_KEY = os.getenv(\"OPENAI_API_KEY\")\n",
    "assert OPENAI_API_KEY and len(OPENAI_API_KEY) > 32"
   ]
  },
  {
   "cell_type": "code",
   "execution_count": null,
   "id": "d9e811cd-1a57-4131-a03b-f8902a169647",
   "metadata": {},
   "outputs": [],
   "source": [
    "from homematch_functions import load_documents\n",
    "from homematch_functions import load_vector_db\n",
    "from homematch_functions import build_similar_documents\n",
    "from homematch_functions import filter_similar_documents\n",
    "from homematch_functions import personalize_listing"
   ]
  },
  {
   "cell_type": "code",
   "execution_count": null,
   "id": "8cc2680b-675b-432c-ad0d-fe8b0307ab6f",
   "metadata": {},
   "outputs": [],
   "source": [
    "documents = load_documents()\n",
    "documents_by_uuid: dict[str, str] = {\n",
    "    doc.metadata[\"record_uuid\"]:doc.page_content for doc in documents\n",
    "}\n",
    "vector_db = load_vector_db(documents)\n",
    "documents[0]"
   ]
  },
  {
   "cell_type": "code",
   "execution_count": null,
   "id": "2098c7ce-66c4-4a33-ac40-c901ac518981",
   "metadata": {},
   "outputs": [],
   "source": [
    "questions = [\n",
    "    \"How big do you want your house to be?\",\n",
    "    \"What are 3 most important things for you in choosing this property?\", \n",
    "    \"Which amenities would you like?\", \n",
    "    \"Which transportation options are important to you?\",\n",
    "    \"How urban do you want your neighborhood to be?\",\n",
    "]"
   ]
  },
  {
   "cell_type": "code",
   "execution_count": null,
   "id": "9cd3dd20-b769-45ee-a8dc-b9e6a80eafe7",
   "metadata": {},
   "outputs": [],
   "source": [
    "answers_1 = [\n",
    "    \"A comfortable three-bedroom house with a spacious kitchen and a cozy living room.\",\n",
    "    \"A quiet neighborhood, good local schools, and convenient shopping options.\",\n",
    "    \"A backyard for gardening, a two-car garage, and a modern, energy-efficient heating system.\",\n",
    "    \"Easy access to a reliable bus line, proximity to a major highway, and bike-friendly roads.\",\n",
    "    \"A balance between suburban tranquility and access to urban amenities like restaurants and theaters.\",\n",
    "]\n"
   ]
  },
  {
   "cell_type": "code",
   "execution_count": null,
   "id": "e5996123-621e-41cc-af5a-48b7cac1780b",
   "metadata": {},
   "outputs": [],
   "source": [
    "from ipywidgets import Layout, Button, Box, FloatText, Textarea, Dropdown, Label, IntSlider\n",
    "\n",
    "form_row_layout = Layout(\n",
    "    display='flex',\n",
    "    flex_flow='row',\n",
    "    justify_content='space-between'\n",
    ")\n",
    "\n",
    "form_rows = []\n",
    "for index, question in enumerate(questions):\n",
    "    form_rows.append(Box([\n",
    "        Label(value=question), \n",
    "        Textarea(layout=Layout(height='4em', width='60%'), value=answers_1[index])\n",
    "    ], layout=form_row_layout))\n",
    "\n",
    "form = Box(form_rows, layout=Layout(\n",
    "    display='flex',\n",
    "    flex_flow='column',\n",
    "    border='none',\n",
    "    align_items='stretch',\n",
    "    width='100%'\n",
    "))\n",
    "\n",
    "form"
   ]
  },
  {
   "cell_type": "code",
   "execution_count": null,
   "id": "349757e7-f898-4c73-948d-d0b3771beaf6",
   "metadata": {},
   "outputs": [],
   "source": [
    "similar_documents_ids = build_similar_documents(vector_db, answers_1)\n",
    "filtered_documents_ids = filter_similar_documents(similar_documents_ids, 3)\n",
    "filtered_documents_ids"
   ]
  },
  {
   "cell_type": "code",
   "execution_count": null,
   "id": "8098a7f5-4131-47f2-96c2-f08a7c23724d",
   "metadata": {},
   "outputs": [],
   "source": [
    "personalized_listings = {}\n",
    "for record_uuid, answer_indexes in filtered_documents_ids.items():\n",
    "    listing = documents_by_uuid[record_uuid]\n",
    "    filtered_answers = [answers_1[i] for i in answer_indexes]\n",
    "    result = personalize_listing(listing, filtered_answers)\n",
    "    personalized_listings[record_uuid] = {\n",
    "        \"record_uuid\": record_uuid,\n",
    "        \"filtered_answers\": filtered_answers,\n",
    "        \"description\": result,\n",
    "    }\n",
    "print(f\"{len(personalized_listings)=}\")"
   ]
  },
  {
   "cell_type": "code",
   "execution_count": null,
   "id": "dd53a5a0-5a4d-4166-861d-40b2e86d3796",
   "metadata": {},
   "outputs": [],
   "source": [
    "from IPython.display import HTML\n",
    "from homematch_index_html import get_data_urls\n",
    "\n",
    "images = get_data_urls(list(personalized_listings.keys()))\n",
    "\n",
    "blocks = []\n",
    "for record_uuid, listing in personalized_listings.items():\n",
    "    description = listing[\"description\"].replace(\"\\n\", \"<br>\")\n",
    "    blocks.append(f\"\"\"\n",
    "        <div style=\"border: 2px solid gray; margin:2em; padding:1em;\">\n",
    "            {record_uuid}<br>\n",
    "            <img src=\"{images[record_uuid]}\" width=\"256\" style=\"float:left; margin:1em;\"/>\n",
    "            {description}\n",
    "        </div>\n",
    "    \"\"\")\n",
    "\n",
    "HTML('\\n'.join(blocks))"
   ]
  },
  {
   "cell_type": "code",
   "execution_count": null,
   "id": "87c9c011-0e43-4822-ae69-0851c564ec7c",
   "metadata": {},
   "outputs": [],
   "source": []
  }
 ],
 "metadata": {
  "kernelspec": {
   "display_name": "Python 3 (ipykernel)",
   "language": "python",
   "name": "python3"
  },
  "language_info": {
   "codemirror_mode": {
    "name": "ipython",
    "version": 3
   },
   "file_extension": ".py",
   "mimetype": "text/x-python",
   "name": "python",
   "nbconvert_exporter": "python",
   "pygments_lexer": "ipython3",
   "version": "3.13.3"
  }
 },
 "nbformat": 4,
 "nbformat_minor": 5
}
